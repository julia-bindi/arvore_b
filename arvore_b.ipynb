{
 "metadata": {
  "language_info": {
   "codemirror_mode": {
    "name": "ipython",
    "version": 3
   },
   "file_extension": ".py",
   "mimetype": "text/x-python",
   "name": "python",
   "nbconvert_exporter": "python",
   "pygments_lexer": "ipython3",
   "version": "3.9.1-final"
  },
  "orig_nbformat": 2,
  "kernelspec": {
   "name": "python3",
   "display_name": "Python 3.9.1 64-bit",
   "metadata": {
    "interpreter": {
     "hash": "e00c480ae7e3d5e7171f38ea6fedffbe731b8808f4aa360dec46acf6f1daf018"
    }
   }
  }
 },
 "nbformat": 4,
 "nbformat_minor": 2,
 "cells": [
  {
   "source": [
    "**Dupla:** André Júnior Lopes Cardoso e Júlia Bindi Alencar de Jesus"
   ],
   "cell_type": "markdown",
   "metadata": {}
  },
  {
   "source": [
    "## Implementação de Árvore b\n",
    "A implementação realizada foi inteiramente baseada na teoria passada pelo professor Thiago."
   ],
   "cell_type": "markdown",
   "metadata": {}
  },
  {
   "source": [
    "**Parte 1:** Nessa parte da atividade foi criada a classe item, que ontém um valor iteiro, métodos para ser comparado com outros de mesmo tipo, além do método que permite imprimir o Item da forma desejada."
   ],
   "cell_type": "markdown",
   "metadata": {}
  },
  {
   "source": [
    "**Parte 2:** Criamos a classe Pagina, que possui os termos r e p, vetores de itens e de filhos respectivamente, assim como uma vriável com o tamanho máximo que cada um dos vetores pode possuir. Além disso, contém os métodos utilizados para imprimir a página, atualiza o valor de n (tamaho do vator de Itens) e, por fim, um método que verifica se a página está dentro dos pdrões de Árvore b."
   ],
   "cell_type": "markdown",
   "metadata": {}
  },
  {
   "source": [
    "**Parte 3:** Foi criada a classe ArvoreB, que contém um valor de m e uma página raiz. Outrossim, também conté métodos que serão explicaos abaixo."
   ],
   "cell_type": "markdown",
   "metadata": {}
  },
  {
   "cell_type": "code",
   "execution_count": 1,
   "metadata": {},
   "outputs": [
    {
     "output_type": "stream",
     "name": "stdout",
     "text": [
      "\nTESTE INSERE\nArvore b com m = 2\n\n[2] - Tamanho desta pagina: 1\n[0, 1] - Tamanho desta pagina: 2\n[3, 4] - Tamanho desta pagina: 2\n\nTESTE PESQUISA\nItem pesquisado: 4\n[3, 4] - Tamanho desta pagina: 2\n\nTESTE REMOVER\nArvore b com m = 2\n\n[2] - Tamanho desta pagina: 1\n[0, 1] - Tamanho desta pagina: 2\n[3, 4, 5] - Tamanho desta pagina: 3\nArvore b com m = 2\n\n[2] - Tamanho desta pagina: 1\n[0, 1] - Tamanho desta pagina: 2\n[4, 5] - Tamanho desta pagina: 2\n"
     ]
    }
   ],
   "source": [
    "!python arvore_b_test.py"
   ]
  }
 ]
}